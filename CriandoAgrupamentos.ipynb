{
  "nbformat": 4,
  "nbformat_minor": 0,
  "metadata": {
    "colab": {
      "name": "CriandoAgrupamentos.ipynb",
      "provenance": [],
      "authorship_tag": "ABX9TyNlnfgZkLnMyPTYl7k/nAzz",
      "include_colab_link": true
    },
    "kernelspec": {
      "name": "python3",
      "display_name": "Python 3"
    },
    "language_info": {
      "name": "python"
    }
  },
  "cells": [
    {
      "cell_type": "markdown",
      "metadata": {
        "id": "view-in-github",
        "colab_type": "text"
      },
      "source": [
        "<a href=\"https://colab.research.google.com/github/brunonbn/intro-data-science/blob/main/CriandoAgrupamentos.ipynb\" target=\"_parent\"><img src=\"https://colab.research.google.com/assets/colab-badge.svg\" alt=\"Open In Colab\"/></a>"
      ]
    },
    {
      "cell_type": "markdown",
      "metadata": {
        "id": "dHzRp7RUf1Vi"
      },
      "source": [
        "# Relatório de Análise VII"
      ]
    },
    {
      "cell_type": "markdown",
      "metadata": {
        "id": "mmxrSkhKf9ib"
      },
      "source": [
        "## Criando Agrupamentos"
      ]
    },
    {
      "cell_type": "code",
      "metadata": {
        "id": "3-yZcC1ZgAJ7"
      },
      "source": [
        "import pandas as pd"
      ],
      "execution_count": 27,
      "outputs": []
    },
    {
      "cell_type": "code",
      "metadata": {
        "id": "eF7i7eDhgCVb"
      },
      "source": [
        "dados = pd.read_csv(\"Aluguel_Residencial4.csv\", sep = \";\")"
      ],
      "execution_count": 28,
      "outputs": []
    },
    {
      "cell_type": "code",
      "metadata": {
        "colab": {
          "base_uri": "https://localhost:8080/",
          "height": 359
        },
        "id": "1HV8MxxMgIYM",
        "outputId": "646a422c-fc95-41ab-bd1c-a278719a4684"
      },
      "source": [
        "dados.head(10)"
      ],
      "execution_count": 29,
      "outputs": [
        {
          "output_type": "execute_result",
          "data": {
            "text/html": [
              "<div>\n",
              "<style scoped>\n",
              "    .dataframe tbody tr th:only-of-type {\n",
              "        vertical-align: middle;\n",
              "    }\n",
              "\n",
              "    .dataframe tbody tr th {\n",
              "        vertical-align: top;\n",
              "    }\n",
              "\n",
              "    .dataframe thead th {\n",
              "        text-align: right;\n",
              "    }\n",
              "</style>\n",
              "<table border=\"1\" class=\"dataframe\">\n",
              "  <thead>\n",
              "    <tr style=\"text-align: right;\">\n",
              "      <th></th>\n",
              "      <th>Tipo</th>\n",
              "      <th>Bairro</th>\n",
              "      <th>Quartos</th>\n",
              "      <th>Vagas</th>\n",
              "      <th>Suites</th>\n",
              "      <th>Area</th>\n",
              "      <th>Valor</th>\n",
              "      <th>Condominio</th>\n",
              "      <th>IPTU</th>\n",
              "      <th>Valor M2</th>\n",
              "      <th>Tipo Agregado</th>\n",
              "    </tr>\n",
              "  </thead>\n",
              "  <tbody>\n",
              "    <tr>\n",
              "      <th>0</th>\n",
              "      <td>Quitinete</td>\n",
              "      <td>Copacabana</td>\n",
              "      <td>1</td>\n",
              "      <td>0</td>\n",
              "      <td>0</td>\n",
              "      <td>40</td>\n",
              "      <td>1700.0</td>\n",
              "      <td>500.0</td>\n",
              "      <td>60.0</td>\n",
              "      <td>42.50</td>\n",
              "      <td>Apartamento</td>\n",
              "    </tr>\n",
              "    <tr>\n",
              "      <th>1</th>\n",
              "      <td>Casa</td>\n",
              "      <td>Jardim Botânico</td>\n",
              "      <td>2</td>\n",
              "      <td>0</td>\n",
              "      <td>1</td>\n",
              "      <td>100</td>\n",
              "      <td>7000.0</td>\n",
              "      <td>0.0</td>\n",
              "      <td>0.0</td>\n",
              "      <td>70.00</td>\n",
              "      <td>Casa</td>\n",
              "    </tr>\n",
              "    <tr>\n",
              "      <th>2</th>\n",
              "      <td>Apartamento</td>\n",
              "      <td>Centro</td>\n",
              "      <td>1</td>\n",
              "      <td>0</td>\n",
              "      <td>0</td>\n",
              "      <td>15</td>\n",
              "      <td>800.0</td>\n",
              "      <td>390.0</td>\n",
              "      <td>20.0</td>\n",
              "      <td>53.33</td>\n",
              "      <td>Apartamento</td>\n",
              "    </tr>\n",
              "    <tr>\n",
              "      <th>3</th>\n",
              "      <td>Apartamento</td>\n",
              "      <td>Higienópolis</td>\n",
              "      <td>1</td>\n",
              "      <td>0</td>\n",
              "      <td>0</td>\n",
              "      <td>48</td>\n",
              "      <td>800.0</td>\n",
              "      <td>230.0</td>\n",
              "      <td>0.0</td>\n",
              "      <td>16.67</td>\n",
              "      <td>Apartamento</td>\n",
              "    </tr>\n",
              "    <tr>\n",
              "      <th>4</th>\n",
              "      <td>Apartamento</td>\n",
              "      <td>Cachambi</td>\n",
              "      <td>2</td>\n",
              "      <td>0</td>\n",
              "      <td>0</td>\n",
              "      <td>50</td>\n",
              "      <td>1300.0</td>\n",
              "      <td>301.0</td>\n",
              "      <td>17.0</td>\n",
              "      <td>26.00</td>\n",
              "      <td>Apartamento</td>\n",
              "    </tr>\n",
              "    <tr>\n",
              "      <th>5</th>\n",
              "      <td>Casa de Condomínio</td>\n",
              "      <td>Barra da Tijuca</td>\n",
              "      <td>5</td>\n",
              "      <td>4</td>\n",
              "      <td>5</td>\n",
              "      <td>750</td>\n",
              "      <td>22000.0</td>\n",
              "      <td>0.0</td>\n",
              "      <td>0.0</td>\n",
              "      <td>29.33</td>\n",
              "      <td>Casa</td>\n",
              "    </tr>\n",
              "    <tr>\n",
              "      <th>6</th>\n",
              "      <td>Casa de Condomínio</td>\n",
              "      <td>Ramos</td>\n",
              "      <td>2</td>\n",
              "      <td>2</td>\n",
              "      <td>0</td>\n",
              "      <td>65</td>\n",
              "      <td>1000.0</td>\n",
              "      <td>0.0</td>\n",
              "      <td>0.0</td>\n",
              "      <td>15.38</td>\n",
              "      <td>Casa</td>\n",
              "    </tr>\n",
              "    <tr>\n",
              "      <th>7</th>\n",
              "      <td>Apartamento</td>\n",
              "      <td>Grajaú</td>\n",
              "      <td>2</td>\n",
              "      <td>1</td>\n",
              "      <td>0</td>\n",
              "      <td>70</td>\n",
              "      <td>1500.0</td>\n",
              "      <td>642.0</td>\n",
              "      <td>74.0</td>\n",
              "      <td>21.43</td>\n",
              "      <td>Apartamento</td>\n",
              "    </tr>\n",
              "    <tr>\n",
              "      <th>8</th>\n",
              "      <td>Apartamento</td>\n",
              "      <td>Lins de Vasconcelos</td>\n",
              "      <td>3</td>\n",
              "      <td>1</td>\n",
              "      <td>1</td>\n",
              "      <td>90</td>\n",
              "      <td>1500.0</td>\n",
              "      <td>455.0</td>\n",
              "      <td>14.0</td>\n",
              "      <td>16.67</td>\n",
              "      <td>Apartamento</td>\n",
              "    </tr>\n",
              "    <tr>\n",
              "      <th>9</th>\n",
              "      <td>Apartamento</td>\n",
              "      <td>Copacabana</td>\n",
              "      <td>1</td>\n",
              "      <td>0</td>\n",
              "      <td>1</td>\n",
              "      <td>40</td>\n",
              "      <td>2000.0</td>\n",
              "      <td>561.0</td>\n",
              "      <td>50.0</td>\n",
              "      <td>50.00</td>\n",
              "      <td>Apartamento</td>\n",
              "    </tr>\n",
              "  </tbody>\n",
              "</table>\n",
              "</div>"
            ],
            "text/plain": [
              "                 Tipo               Bairro  ...  Valor M2  Tipo Agregado\n",
              "0           Quitinete           Copacabana  ...     42.50    Apartamento\n",
              "1                Casa      Jardim Botânico  ...     70.00           Casa\n",
              "2         Apartamento               Centro  ...     53.33    Apartamento\n",
              "3         Apartamento         Higienópolis  ...     16.67    Apartamento\n",
              "4         Apartamento             Cachambi  ...     26.00    Apartamento\n",
              "5  Casa de Condomínio      Barra da Tijuca  ...     29.33           Casa\n",
              "6  Casa de Condomínio                Ramos  ...     15.38           Casa\n",
              "7         Apartamento               Grajaú  ...     21.43    Apartamento\n",
              "8         Apartamento  Lins de Vasconcelos  ...     16.67    Apartamento\n",
              "9         Apartamento           Copacabana  ...     50.00    Apartamento\n",
              "\n",
              "[10 rows x 11 columns]"
            ]
          },
          "metadata": {},
          "execution_count": 29
        }
      ]
    },
    {
      "cell_type": "code",
      "metadata": {
        "colab": {
          "base_uri": "https://localhost:8080/"
        },
        "id": "D4UgDNDjgKGr",
        "outputId": "7dd79772-5313-49e9-f072-49141786493c"
      },
      "source": [
        "dados['Valor'].mean()"
      ],
      "execution_count": 30,
      "outputs": [
        {
          "output_type": "execute_result",
          "data": {
            "text/plain": [
              "5046.172821405663"
            ]
          },
          "metadata": {},
          "execution_count": 30
        }
      ]
    },
    {
      "cell_type": "markdown",
      "metadata": {
        "id": "_7xydsWCkTH4"
      },
      "source": [
        "### Ver https://pandas.pydata.org/pandas-docs/stable/reference/frame.html#computations-descriptive-stats"
      ]
    },
    {
      "cell_type": "code",
      "metadata": {
        "colab": {
          "base_uri": "https://localhost:8080/"
        },
        "id": "4_cYZ0sTlZ34",
        "outputId": "272ccc20-ebf0-49d4-f768-f5a9783340e9"
      },
      "source": [
        "bairros = ['Barra da Tijuca', 'Copacabana', 'Ipanema', 'Leblon', 'Botafogo', 'Flamengo', 'Tijuca']\n",
        "selecao = dados['Bairro'].isin(bairros)\n",
        "dados_bairros = dados[selecao]\n",
        "dados_bairros['Bairro'].value_counts()"
      ],
      "execution_count": 31,
      "outputs": [
        {
          "output_type": "execute_result",
          "data": {
            "text/plain": [
              "Barra da Tijuca    3863\n",
              "Copacabana         2644\n",
              "Ipanema            1764\n",
              "Leblon             1258\n",
              "Tijuca             1100\n",
              "Botafogo            873\n",
              "Flamengo            714\n",
              "Name: Bairro, dtype: int64"
            ]
          },
          "metadata": {},
          "execution_count": 31
        }
      ]
    },
    {
      "cell_type": "code",
      "metadata": {
        "id": "6wRD7TAPl-Uo"
      },
      "source": [
        "grupo_bairro = dados_bairros.groupby('Bairro')"
      ],
      "execution_count": 32,
      "outputs": []
    },
    {
      "cell_type": "code",
      "metadata": {
        "colab": {
          "base_uri": "https://localhost:8080/"
        },
        "id": "BdMGLiP4mSU3",
        "outputId": "2cbd2267-c263-46ad-b8e2-2a97a16e74d0"
      },
      "source": [
        "type(grupo_bairro)"
      ],
      "execution_count": 33,
      "outputs": [
        {
          "output_type": "execute_result",
          "data": {
            "text/plain": [
              "pandas.core.groupby.generic.DataFrameGroupBy"
            ]
          },
          "metadata": {},
          "execution_count": 33
        }
      ]
    },
    {
      "cell_type": "code",
      "metadata": {
        "colab": {
          "base_uri": "https://localhost:8080/"
        },
        "id": "4QroILzmmUZm",
        "outputId": "15697a10-bc7e-4e93-b4d1-14f15cf8c64e"
      },
      "source": [
        "grupo_bairro.groups"
      ],
      "execution_count": 34,
      "outputs": [
        {
          "output_type": "execute_result",
          "data": {
            "text/plain": [
              "{'Barra da Tijuca': [5, 14, 16, 21, 30, 32, 35, 42, 43, 60, 61, 64, 68, 74, 79, 93, 107, 110, 112, 117, 130, 132, 136, 150, 153, 155, 165, 166, 173, 186, 189, 207, 214, 221, 224, 233, 236, 239, 244, 259, 265, 274, 276, 291, 292, 293, 295, 302, 308, 311, 325, 335, 336, 345, 360, 366, 368, 374, 380, 387, 389, 400, 412, 432, 433, 435, 436, 439, 449, 451, 462, 463, 465, 473, 476, 484, 494, 500, 503, 511, 537, 538, 539, 540, 543, 547, 552, 554, 555, 556, 584, 587, 588, 590, 594, 596, 601, 611, 622, 630, ...], 'Botafogo': [23, 48, 87, 88, 111, 119, 127, 134, 196, 200, 225, 334, 362, 415, 416, 498, 524, 526, 545, 593, 649, 685, 719, 756, 765, 822, 827, 861, 915, 924, 928, 1006, 1043, 1080, 1091, 1110, 1116, 1127, 1140, 1165, 1201, 1205, 1223, 1250, 1282, 1295, 1304, 1317, 1348, 1383, 1414, 1419, 1455, 1517, 1529, 1579, 1630, 1655, 1670, 1699, 1741, 1742, 1788, 1814, 1823, 1826, 1853, 1922, 1931, 1957, 1972, 1981, 1989, 2029, 2066, 2069, 2081, 2083, 2084, 2088, 2097, 2148, 2149, 2165, 2179, 2197, 2242, 2247, 2297, 2352, 2381, 2396, 2413, 2431, 2433, 2470, 2509, 2519, 2532, 2580, ...], 'Copacabana': [0, 9, 10, 11, 24, 25, 28, 31, 86, 91, 104, 109, 125, 129, 140, 142, 143, 151, 162, 174, 184, 192, 194, 206, 223, 249, 263, 275, 278, 281, 289, 290, 301, 307, 319, 327, 329, 348, 359, 365, 371, 372, 388, 396, 404, 425, 426, 437, 458, 460, 485, 486, 487, 497, 530, 532, 534, 557, 564, 573, 574, 583, 606, 610, 612, 615, 633, 650, 659, 666, 667, 678, 687, 689, 694, 701, 713, 730, 736, 739, 772, 808, 824, 836, 872, 881, 894, 898, 907, 912, 917, 919, 921, 922, 929, 952, 963, 964, 980, 989, ...], 'Flamengo': [78, 138, 218, 284, 321, 347, 356, 361, 369, 393, 421, 430, 442, 477, 544, 580, 620, 669, 726, 764, 795, 855, 886, 891, 900, 943, 967, 1044, 1099, 1128, 1137, 1209, 1234, 1241, 1359, 1397, 1400, 1507, 1513, 1525, 1536, 1546, 1555, 1602, 1605, 1680, 1696, 1760, 1763, 1834, 1844, 1872, 1940, 1973, 2005, 2010, 2035, 2218, 2227, 2264, 2274, 2311, 2334, 2362, 2374, 2426, 2461, 2529, 2530, 2539, 2542, 2567, 2594, 2626, 2637, 2702, 2710, 2715, 2773, 2777, 2863, 2877, 2920, 2937, 2955, 2975, 3036, 3087, 3102, 3127, 3129, 3138, 3175, 3259, 3284, 3317, 3393, 3399, 3411, 3420, ...], 'Ipanema': [19, 39, 40, 45, 52, 53, 73, 84, 92, 114, 121, 128, 141, 159, 177, 179, 216, 217, 230, 242, 245, 269, 283, 326, 338, 341, 370, 377, 386, 392, 405, 444, 482, 489, 515, 523, 535, 569, 575, 576, 577, 579, 589, 591, 614, 624, 628, 647, 648, 656, 671, 681, 690, 708, 710, 717, 725, 729, 731, 746, 747, 753, 757, 779, 783, 792, 800, 810, 812, 816, 829, 859, 860, 877, 888, 905, 906, 923, 927, 938, 951, 953, 970, 983, 985, 994, 1001, 1010, 1022, 1027, 1033, 1049, 1050, 1052, 1054, 1058, 1060, 1078, 1086, 1092, ...], 'Leblon': [27, 59, 90, 97, 115, 133, 161, 167, 171, 213, 219, 248, 314, 315, 324, 352, 353, 395, 407, 420, 443, 448, 459, 464, 466, 470, 490, 496, 501, 509, 519, 550, 597, 599, 603, 639, 640, 658, 686, 703, 711, 733, 749, 775, 784, 819, 828, 833, 834, 839, 843, 868, 874, 899, 931, 933, 945, 959, 965, 1053, 1059, 1069, 1070, 1072, 1075, 1088, 1104, 1142, 1155, 1161, 1166, 1193, 1204, 1207, 1214, 1216, 1236, 1278, 1279, 1284, 1301, 1302, 1336, 1338, 1346, 1368, 1408, 1411, 1415, 1428, 1503, 1526, 1540, 1547, 1552, 1560, 1587, 1590, 1622, 1623, ...], 'Tijuca': [15, 18, 20, 80, 82, 126, 145, 149, 158, 164, 176, 180, 182, 185, 197, 202, 258, 337, 342, 354, 363, 438, 450, 469, 479, 504, 513, 527, 565, 568, 598, 600, 627, 636, 637, 653, 674, 738, 743, 744, 762, 776, 788, 791, 794, 796, 811, 838, 841, 851, 871, 875, 885, 925, 947, 968, 974, 987, 990, 1020, 1031, 1038, 1061, 1119, 1178, 1181, 1198, 1263, 1277, 1372, 1431, 1435, 1457, 1479, 1530, 1534, 1563, 1565, 1574, 1581, 1634, 1638, 1658, 1679, 1702, 1704, 1718, 1729, 1751, 1778, 1782, 1790, 1820, 1830, 1831, 1836, 1867, 1877, 1900, 1911, ...]}"
            ]
          },
          "metadata": {},
          "execution_count": 34
        }
      ]
    },
    {
      "cell_type": "code",
      "metadata": {
        "colab": {
          "base_uri": "https://localhost:8080/"
        },
        "id": "0_gl5p92mYmW",
        "outputId": "97aeb9d1-6eef-4f02-95c8-78e6ab9570b9"
      },
      "source": [
        "for bairro, dados in grupo_bairro:\n",
        "  print(bairro, ' - ', type(dados))"
      ],
      "execution_count": 35,
      "outputs": [
        {
          "output_type": "stream",
          "name": "stdout",
          "text": [
            "Barra da Tijuca  -  <class 'pandas.core.frame.DataFrame'>\n",
            "Botafogo  -  <class 'pandas.core.frame.DataFrame'>\n",
            "Copacabana  -  <class 'pandas.core.frame.DataFrame'>\n",
            "Flamengo  -  <class 'pandas.core.frame.DataFrame'>\n",
            "Ipanema  -  <class 'pandas.core.frame.DataFrame'>\n",
            "Leblon  -  <class 'pandas.core.frame.DataFrame'>\n",
            "Tijuca  -  <class 'pandas.core.frame.DataFrame'>\n"
          ]
        }
      ]
    },
    {
      "cell_type": "code",
      "metadata": {
        "colab": {
          "base_uri": "https://localhost:8080/"
        },
        "id": "JMVn2ndVmzVG",
        "outputId": "9cb11814-9e53-4919-b1c6-3dfb4ddaff08"
      },
      "source": [
        "for bairro, dados in grupo_bairro:\n",
        "  print(dados)"
      ],
      "execution_count": 36,
      "outputs": [
        {
          "output_type": "stream",
          "name": "stdout",
          "text": [
            "                     Tipo           Bairro  ...  Valor M2  Tipo Agregado\n",
            "5      Casa de Condomínio  Barra da Tijuca  ...     29.33           Casa\n",
            "14            Apartamento  Barra da Tijuca  ...     25.37    Apartamento\n",
            "16     Casa de Condomínio  Barra da Tijuca  ...     16.09           Casa\n",
            "21            Apartamento  Barra da Tijuca  ...     24.00    Apartamento\n",
            "30            Apartamento  Barra da Tijuca  ...     25.71    Apartamento\n",
            "...                   ...              ...  ...       ...            ...\n",
            "21801  Casa de Condomínio  Barra da Tijuca  ...     20.00           Casa\n",
            "21811         Apartamento  Barra da Tijuca  ...     26.47    Apartamento\n",
            "21812         Apartamento  Barra da Tijuca  ...     23.47    Apartamento\n",
            "21813         Apartamento  Barra da Tijuca  ...     39.29    Apartamento\n",
            "21820  Casa de Condomínio  Barra da Tijuca  ...     33.33           Casa\n",
            "\n",
            "[3863 rows x 11 columns]\n",
            "              Tipo    Bairro  Quartos  ...   IPTU  Valor M2  Tipo Agregado\n",
            "23     Apartamento  Botafogo        2  ...    0.0     32.89    Apartamento\n",
            "48     Apartamento  Botafogo        3  ...  289.0     55.09    Apartamento\n",
            "87     Apartamento  Botafogo        2  ...  138.0     33.73    Apartamento\n",
            "88     Apartamento  Botafogo        2  ...  187.0     53.75    Apartamento\n",
            "111    Apartamento  Botafogo        3  ...  220.0     55.00    Apartamento\n",
            "...            ...       ...      ...  ...    ...       ...            ...\n",
            "21660  Apartamento  Botafogo        2  ...   75.0     31.67    Apartamento\n",
            "21666  Apartamento  Botafogo        1  ...   26.0     39.22    Apartamento\n",
            "21715  Apartamento  Botafogo        2  ...  330.0     59.62    Apartamento\n",
            "21746  Apartamento  Botafogo        2  ...  260.0     50.36    Apartamento\n",
            "21790  Apartamento  Botafogo        3  ...  205.0     45.00    Apartamento\n",
            "\n",
            "[873 rows x 11 columns]\n",
            "              Tipo      Bairro  Quartos  ...   IPTU  Valor M2  Tipo Agregado\n",
            "0        Quitinete  Copacabana        1  ...   60.0     42.50    Apartamento\n",
            "9      Apartamento  Copacabana        1  ...   50.0     50.00    Apartamento\n",
            "10       Quitinete  Copacabana        1  ...    0.0     66.67    Apartamento\n",
            "11     Apartamento  Copacabana        4  ...  803.0     53.50    Apartamento\n",
            "24     Apartamento  Copacabana        3  ...  700.0     26.46    Apartamento\n",
            "...            ...         ...      ...  ...    ...       ...            ...\n",
            "21783  Apartamento  Copacabana        1  ...   78.0     40.00    Apartamento\n",
            "21795  Apartamento  Copacabana        2  ...   80.0     36.57    Apartamento\n",
            "21809  Apartamento  Copacabana        2  ...   90.0     58.57    Apartamento\n",
            "21810  Apartamento  Copacabana        1  ...   70.0     39.00    Apartamento\n",
            "21815    Quitinete  Copacabana        1  ...  200.0     68.18    Apartamento\n",
            "\n",
            "[2644 rows x 11 columns]\n",
            "              Tipo    Bairro  Quartos  ...    IPTU  Valor M2  Tipo Agregado\n",
            "78       Quitinete  Flamengo        0  ...    53.0     35.71    Apartamento\n",
            "138    Apartamento  Flamengo        1  ...    54.0     47.50    Apartamento\n",
            "218    Apartamento  Flamengo        1  ...    70.0     43.75    Apartamento\n",
            "284    Apartamento  Flamengo        2  ...  1150.0     31.76    Apartamento\n",
            "321    Apartamento  Flamengo        2  ...    98.0     49.12    Apartamento\n",
            "...            ...       ...      ...  ...     ...       ...            ...\n",
            "21704  Apartamento  Flamengo        2  ...   131.0     22.08    Apartamento\n",
            "21728    Quitinete  Flamengo        1  ...     0.0     39.13    Apartamento\n",
            "21731  Apartamento  Flamengo        3  ...   386.0     30.77    Apartamento\n",
            "21740  Apartamento  Flamengo        3  ...   130.0     30.43    Apartamento\n",
            "21794  Apartamento  Flamengo        1  ...     0.0     45.83    Apartamento\n",
            "\n",
            "[714 rows x 11 columns]\n",
            "              Tipo   Bairro  Quartos  ...   IPTU  Valor M2  Tipo Agregado\n",
            "19     Apartamento  Ipanema        3  ...  463.0     56.00    Apartamento\n",
            "39     Apartamento  Ipanema        1  ...   75.0     57.14    Apartamento\n",
            "40     Apartamento  Ipanema        1  ...   77.0     36.84    Apartamento\n",
            "45     Apartamento  Ipanema        3  ...  217.0     36.78    Apartamento\n",
            "52     Apartamento  Ipanema        3  ...    0.0     53.33    Apartamento\n",
            "...            ...      ...      ...  ...    ...       ...            ...\n",
            "21745  Apartamento  Ipanema        4  ...  538.0     59.11    Apartamento\n",
            "21754  Apartamento  Ipanema        3  ...  850.0     51.43    Apartamento\n",
            "21788  Apartamento  Ipanema        3  ...  250.0     50.85    Apartamento\n",
            "21796  Apartamento  Ipanema        1  ...   19.0     36.36    Apartamento\n",
            "21817  Apartamento  Ipanema        3  ...  600.0    100.00    Apartamento\n",
            "\n",
            "[1764 rows x 11 columns]\n",
            "              Tipo  Bairro  Quartos  ...    IPTU  Valor M2  Tipo Agregado\n",
            "27     Apartamento  Leblon        3  ...   120.0     35.45    Apartamento\n",
            "59     Apartamento  Leblon        2  ...   245.0     43.75    Apartamento\n",
            "90     Apartamento  Leblon        3  ...   247.0     51.02    Apartamento\n",
            "97     Apartamento  Leblon        3  ...  1211.0     45.88    Apartamento\n",
            "115    Apartamento  Leblon        4  ...  1500.0    105.26    Apartamento\n",
            "...            ...     ...      ...  ...     ...       ...            ...\n",
            "21786  Apartamento  Leblon        3  ...   850.0     80.00    Apartamento\n",
            "21787  Apartamento  Leblon        4  ...   770.0     35.71    Apartamento\n",
            "21808  Apartamento  Leblon        1  ...   259.0     86.00    Apartamento\n",
            "21816  Apartamento  Leblon        3  ...   249.0     37.50    Apartamento\n",
            "21825  Apartamento  Leblon        2  ...     0.0     42.86    Apartamento\n",
            "\n",
            "[1258 rows x 11 columns]\n",
            "              Tipo  Bairro  Quartos  ...   IPTU  Valor M2  Tipo Agregado\n",
            "15     Apartamento  Tijuca        2  ...  138.0     17.27    Apartamento\n",
            "18     Apartamento  Tijuca        2  ...    0.0     25.64    Apartamento\n",
            "20     Apartamento  Tijuca        1  ...   25.0     15.62    Apartamento\n",
            "80     Apartamento  Tijuca        2  ...   84.0     22.50    Apartamento\n",
            "82     Apartamento  Tijuca        3  ...  170.0     15.70    Apartamento\n",
            "...            ...     ...      ...  ...    ...       ...            ...\n",
            "21675  Apartamento  Tijuca        2  ...   62.0     23.08    Apartamento\n",
            "21714  Apartamento  Tijuca        2  ...   62.0     24.64    Apartamento\n",
            "21729  Apartamento  Tijuca        2  ...   45.0     24.00    Apartamento\n",
            "21773  Apartamento  Tijuca        3  ...  141.0     25.33    Apartamento\n",
            "21818  Apartamento  Tijuca        1  ...   25.0     35.71    Apartamento\n",
            "\n",
            "[1100 rows x 11 columns]\n"
          ]
        }
      ]
    },
    {
      "cell_type": "code",
      "metadata": {
        "colab": {
          "base_uri": "https://localhost:8080/"
        },
        "id": "U7Nuw8X3m48W",
        "outputId": "39915432-8820-41b5-cb2b-1ef5d9fdbe0e"
      },
      "source": [
        "for bairro, data in grupo_bairro:\n",
        "  print('{} -> {}'.format(bairro, data.Valor.mean()))"
      ],
      "execution_count": 37,
      "outputs": [
        {
          "output_type": "stream",
          "name": "stdout",
          "text": [
            "Barra da Tijuca -> 7069.552938130986\n",
            "Botafogo -> 8791.828178694159\n",
            "Copacabana -> 4126.677004538578\n",
            "Flamengo -> 4113.526610644258\n",
            "Ipanema -> 9352.001133786847\n",
            "Leblon -> 8746.344992050874\n",
            "Tijuca -> 2043.52\n"
          ]
        }
      ]
    },
    {
      "cell_type": "code",
      "metadata": {
        "colab": {
          "base_uri": "https://localhost:8080/"
        },
        "id": "wU9hypXznYnW",
        "outputId": "249c8f69-c560-460e-e1a1-fdd5fb20c681"
      },
      "source": [
        "# fazendo a mesma coisa de uma maneira mais simples\n",
        "grupo_bairro['Valor'].mean()"
      ],
      "execution_count": 38,
      "outputs": [
        {
          "output_type": "execute_result",
          "data": {
            "text/plain": [
              "Bairro\n",
              "Barra da Tijuca    7069.552938\n",
              "Botafogo           8791.828179\n",
              "Copacabana         4126.677005\n",
              "Flamengo           4113.526611\n",
              "Ipanema            9352.001134\n",
              "Leblon             8746.344992\n",
              "Tijuca             2043.520000\n",
              "Name: Valor, dtype: float64"
            ]
          },
          "metadata": {},
          "execution_count": 38
        }
      ]
    },
    {
      "cell_type": "code",
      "metadata": {
        "colab": {
          "base_uri": "https://localhost:8080/",
          "height": 297
        },
        "id": "297b-unsnmOF",
        "outputId": "ff965ca0-8fe1-4e1e-f94d-d54b3baa0935"
      },
      "source": [
        "grupo_bairro[['Valor', 'Condominio']].mean().round(2)"
      ],
      "execution_count": 39,
      "outputs": [
        {
          "output_type": "execute_result",
          "data": {
            "text/html": [
              "<div>\n",
              "<style scoped>\n",
              "    .dataframe tbody tr th:only-of-type {\n",
              "        vertical-align: middle;\n",
              "    }\n",
              "\n",
              "    .dataframe tbody tr th {\n",
              "        vertical-align: top;\n",
              "    }\n",
              "\n",
              "    .dataframe thead th {\n",
              "        text-align: right;\n",
              "    }\n",
              "</style>\n",
              "<table border=\"1\" class=\"dataframe\">\n",
              "  <thead>\n",
              "    <tr style=\"text-align: right;\">\n",
              "      <th></th>\n",
              "      <th>Valor</th>\n",
              "      <th>Condominio</th>\n",
              "    </tr>\n",
              "    <tr>\n",
              "      <th>Bairro</th>\n",
              "      <th></th>\n",
              "      <th></th>\n",
              "    </tr>\n",
              "  </thead>\n",
              "  <tbody>\n",
              "    <tr>\n",
              "      <th>Barra da Tijuca</th>\n",
              "      <td>7069.55</td>\n",
              "      <td>3591.01</td>\n",
              "    </tr>\n",
              "    <tr>\n",
              "      <th>Botafogo</th>\n",
              "      <td>8791.83</td>\n",
              "      <td>976.28</td>\n",
              "    </tr>\n",
              "    <tr>\n",
              "      <th>Copacabana</th>\n",
              "      <td>4126.68</td>\n",
              "      <td>1148.68</td>\n",
              "    </tr>\n",
              "    <tr>\n",
              "      <th>Flamengo</th>\n",
              "      <td>4113.53</td>\n",
              "      <td>1102.15</td>\n",
              "    </tr>\n",
              "    <tr>\n",
              "      <th>Ipanema</th>\n",
              "      <td>9352.00</td>\n",
              "      <td>2244.44</td>\n",
              "    </tr>\n",
              "    <tr>\n",
              "      <th>Leblon</th>\n",
              "      <td>8746.34</td>\n",
              "      <td>2107.18</td>\n",
              "    </tr>\n",
              "    <tr>\n",
              "      <th>Tijuca</th>\n",
              "      <td>2043.52</td>\n",
              "      <td>711.69</td>\n",
              "    </tr>\n",
              "  </tbody>\n",
              "</table>\n",
              "</div>"
            ],
            "text/plain": [
              "                   Valor  Condominio\n",
              "Bairro                              \n",
              "Barra da Tijuca  7069.55     3591.01\n",
              "Botafogo         8791.83      976.28\n",
              "Copacabana       4126.68     1148.68\n",
              "Flamengo         4113.53     1102.15\n",
              "Ipanema          9352.00     2244.44\n",
              "Leblon           8746.34     2107.18\n",
              "Tijuca           2043.52      711.69"
            ]
          },
          "metadata": {},
          "execution_count": 39
        }
      ]
    },
    {
      "cell_type": "markdown",
      "metadata": {
        "id": "uMNPbIwgoA5W"
      },
      "source": [
        "## Estatísticas Descritivas"
      ]
    },
    {
      "cell_type": "code",
      "metadata": {
        "id": "Oam59dlgAYp-",
        "outputId": "a62d091d-d0a6-4fa5-84ce-83d22eb6fb3e",
        "colab": {
          "base_uri": "https://localhost:8080/",
          "height": 297
        }
      },
      "source": [
        "grupo_bairro['Valor'].describe().round(2)"
      ],
      "execution_count": 40,
      "outputs": [
        {
          "output_type": "execute_result",
          "data": {
            "text/html": [
              "<div>\n",
              "<style scoped>\n",
              "    .dataframe tbody tr th:only-of-type {\n",
              "        vertical-align: middle;\n",
              "    }\n",
              "\n",
              "    .dataframe tbody tr th {\n",
              "        vertical-align: top;\n",
              "    }\n",
              "\n",
              "    .dataframe thead th {\n",
              "        text-align: right;\n",
              "    }\n",
              "</style>\n",
              "<table border=\"1\" class=\"dataframe\">\n",
              "  <thead>\n",
              "    <tr style=\"text-align: right;\">\n",
              "      <th></th>\n",
              "      <th>count</th>\n",
              "      <th>mean</th>\n",
              "      <th>std</th>\n",
              "      <th>min</th>\n",
              "      <th>25%</th>\n",
              "      <th>50%</th>\n",
              "      <th>75%</th>\n",
              "      <th>max</th>\n",
              "    </tr>\n",
              "    <tr>\n",
              "      <th>Bairro</th>\n",
              "      <th></th>\n",
              "      <th></th>\n",
              "      <th></th>\n",
              "      <th></th>\n",
              "      <th></th>\n",
              "      <th></th>\n",
              "      <th></th>\n",
              "      <th></th>\n",
              "    </tr>\n",
              "  </thead>\n",
              "  <tbody>\n",
              "    <tr>\n",
              "      <th>Barra da Tijuca</th>\n",
              "      <td>3863.0</td>\n",
              "      <td>7069.55</td>\n",
              "      <td>11874.15</td>\n",
              "      <td>800.0</td>\n",
              "      <td>2500.0</td>\n",
              "      <td>4500.0</td>\n",
              "      <td>8500.0</td>\n",
              "      <td>600000.0</td>\n",
              "    </tr>\n",
              "    <tr>\n",
              "      <th>Botafogo</th>\n",
              "      <td>873.0</td>\n",
              "      <td>8791.83</td>\n",
              "      <td>152202.41</td>\n",
              "      <td>700.0</td>\n",
              "      <td>2200.0</td>\n",
              "      <td>3000.0</td>\n",
              "      <td>4350.0</td>\n",
              "      <td>4500000.0</td>\n",
              "    </tr>\n",
              "    <tr>\n",
              "      <th>Copacabana</th>\n",
              "      <td>2644.0</td>\n",
              "      <td>4126.68</td>\n",
              "      <td>3611.41</td>\n",
              "      <td>100.0</td>\n",
              "      <td>2000.0</td>\n",
              "      <td>3000.0</td>\n",
              "      <td>4800.0</td>\n",
              "      <td>35000.0</td>\n",
              "    </tr>\n",
              "    <tr>\n",
              "      <th>Flamengo</th>\n",
              "      <td>714.0</td>\n",
              "      <td>4113.53</td>\n",
              "      <td>3839.13</td>\n",
              "      <td>800.0</td>\n",
              "      <td>1900.0</td>\n",
              "      <td>2900.0</td>\n",
              "      <td>4975.0</td>\n",
              "      <td>35000.0</td>\n",
              "    </tr>\n",
              "    <tr>\n",
              "      <th>Ipanema</th>\n",
              "      <td>1764.0</td>\n",
              "      <td>9352.00</td>\n",
              "      <td>8219.72</td>\n",
              "      <td>1200.0</td>\n",
              "      <td>4500.0</td>\n",
              "      <td>7000.0</td>\n",
              "      <td>11000.0</td>\n",
              "      <td>90000.0</td>\n",
              "    </tr>\n",
              "    <tr>\n",
              "      <th>Leblon</th>\n",
              "      <td>1258.0</td>\n",
              "      <td>8746.34</td>\n",
              "      <td>7004.04</td>\n",
              "      <td>100.0</td>\n",
              "      <td>4500.0</td>\n",
              "      <td>7000.0</td>\n",
              "      <td>10500.0</td>\n",
              "      <td>100000.0</td>\n",
              "    </tr>\n",
              "    <tr>\n",
              "      <th>Tijuca</th>\n",
              "      <td>1100.0</td>\n",
              "      <td>2043.52</td>\n",
              "      <td>1664.34</td>\n",
              "      <td>750.0</td>\n",
              "      <td>1500.0</td>\n",
              "      <td>1800.0</td>\n",
              "      <td>2300.0</td>\n",
              "      <td>45000.0</td>\n",
              "    </tr>\n",
              "  </tbody>\n",
              "</table>\n",
              "</div>"
            ],
            "text/plain": [
              "                  count     mean        std  ...     50%      75%        max\n",
              "Bairro                                       ...                            \n",
              "Barra da Tijuca  3863.0  7069.55   11874.15  ...  4500.0   8500.0   600000.0\n",
              "Botafogo          873.0  8791.83  152202.41  ...  3000.0   4350.0  4500000.0\n",
              "Copacabana       2644.0  4126.68    3611.41  ...  3000.0   4800.0    35000.0\n",
              "Flamengo          714.0  4113.53    3839.13  ...  2900.0   4975.0    35000.0\n",
              "Ipanema          1764.0  9352.00    8219.72  ...  7000.0  11000.0    90000.0\n",
              "Leblon           1258.0  8746.34    7004.04  ...  7000.0  10500.0   100000.0\n",
              "Tijuca           1100.0  2043.52    1664.34  ...  1800.0   2300.0    45000.0\n",
              "\n",
              "[7 rows x 8 columns]"
            ]
          },
          "metadata": {},
          "execution_count": 40
        }
      ]
    },
    {
      "cell_type": "code",
      "metadata": {
        "id": "tnQSboKpAf4O",
        "outputId": "ed005b15-f7cc-46f3-8ef8-024ea6c9cc73",
        "colab": {
          "base_uri": "https://localhost:8080/",
          "height": 297
        }
      },
      "source": [
        "# pegando apenas algumas estatísticas do grupo - ver no link acima as estatísticas disponíveis\n",
        "grupo_bairro['Valor'].aggregate(['min', 'max', 'sum']).rename(columns = {'min': 'Mínimo', 'max': 'Máximo', 'sum': 'Soma'})"
      ],
      "execution_count": 42,
      "outputs": [
        {
          "output_type": "execute_result",
          "data": {
            "text/html": [
              "<div>\n",
              "<style scoped>\n",
              "    .dataframe tbody tr th:only-of-type {\n",
              "        vertical-align: middle;\n",
              "    }\n",
              "\n",
              "    .dataframe tbody tr th {\n",
              "        vertical-align: top;\n",
              "    }\n",
              "\n",
              "    .dataframe thead th {\n",
              "        text-align: right;\n",
              "    }\n",
              "</style>\n",
              "<table border=\"1\" class=\"dataframe\">\n",
              "  <thead>\n",
              "    <tr style=\"text-align: right;\">\n",
              "      <th></th>\n",
              "      <th>Mínimo</th>\n",
              "      <th>Máximo</th>\n",
              "      <th>Soma</th>\n",
              "    </tr>\n",
              "    <tr>\n",
              "      <th>Bairro</th>\n",
              "      <th></th>\n",
              "      <th></th>\n",
              "      <th></th>\n",
              "    </tr>\n",
              "  </thead>\n",
              "  <tbody>\n",
              "    <tr>\n",
              "      <th>Barra da Tijuca</th>\n",
              "      <td>800.0</td>\n",
              "      <td>600000.0</td>\n",
              "      <td>27309683.0</td>\n",
              "    </tr>\n",
              "    <tr>\n",
              "      <th>Botafogo</th>\n",
              "      <td>700.0</td>\n",
              "      <td>4500000.0</td>\n",
              "      <td>7675266.0</td>\n",
              "    </tr>\n",
              "    <tr>\n",
              "      <th>Copacabana</th>\n",
              "      <td>100.0</td>\n",
              "      <td>35000.0</td>\n",
              "      <td>10910934.0</td>\n",
              "    </tr>\n",
              "    <tr>\n",
              "      <th>Flamengo</th>\n",
              "      <td>800.0</td>\n",
              "      <td>35000.0</td>\n",
              "      <td>2937058.0</td>\n",
              "    </tr>\n",
              "    <tr>\n",
              "      <th>Ipanema</th>\n",
              "      <td>1200.0</td>\n",
              "      <td>90000.0</td>\n",
              "      <td>16496930.0</td>\n",
              "    </tr>\n",
              "    <tr>\n",
              "      <th>Leblon</th>\n",
              "      <td>100.0</td>\n",
              "      <td>100000.0</td>\n",
              "      <td>11002902.0</td>\n",
              "    </tr>\n",
              "    <tr>\n",
              "      <th>Tijuca</th>\n",
              "      <td>750.0</td>\n",
              "      <td>45000.0</td>\n",
              "      <td>2247872.0</td>\n",
              "    </tr>\n",
              "  </tbody>\n",
              "</table>\n",
              "</div>"
            ],
            "text/plain": [
              "                 Mínimo     Máximo        Soma\n",
              "Bairro                                        \n",
              "Barra da Tijuca   800.0   600000.0  27309683.0\n",
              "Botafogo          700.0  4500000.0   7675266.0\n",
              "Copacabana        100.0    35000.0  10910934.0\n",
              "Flamengo          800.0    35000.0   2937058.0\n",
              "Ipanema          1200.0    90000.0  16496930.0\n",
              "Leblon            100.0   100000.0  11002902.0\n",
              "Tijuca            750.0    45000.0   2247872.0"
            ]
          },
          "metadata": {},
          "execution_count": 42
        }
      ]
    },
    {
      "cell_type": "markdown",
      "metadata": {
        "id": "xCNOwz2AA1lv"
      },
      "source": [
        "### Overview do Matplotlib"
      ]
    },
    {
      "cell_type": "code",
      "metadata": {
        "id": "v1TcsQh0BVf-"
      },
      "source": [
        "%matplotlib inline\n",
        "import matplotlib.pyplot as plt\n",
        "plt.rc('figure', figsize = (20, 10))"
      ],
      "execution_count": 44,
      "outputs": []
    },
    {
      "cell_type": "code",
      "metadata": {
        "id": "ChVs1Y1xBiZ9",
        "outputId": "3f8997f9-871c-4354-bf4b-a7b151bdeb96",
        "colab": {
          "base_uri": "https://localhost:8080/",
          "height": 712
        }
      },
      "source": [
        "fig = grupo_bairro['Valor'].mean().plot.bar(color = 'blue')\n",
        "fig.set_ylabel('Valor do Aluguel')\n",
        "fig.set_title('Valor Médio do Aluguel por Bairro', {'fontsize': 22})"
      ],
      "execution_count": 46,
      "outputs": [
        {
          "output_type": "execute_result",
          "data": {
            "text/plain": [
              "Text(0.5, 1.0, 'Valor Médio do Aluguel por Bairro')"
            ]
          },
          "metadata": {},
          "execution_count": 46
        },
        {
          "output_type": "display_data",
          "data": {
            "image/png": "[encoded data removed]",
            "text/plain": [
              "<Figure size 1440x720 with 1 Axes>"
            ]
          },
          "metadata": {
            "needs_background": "light"
          }
        }
      ]
    },
    {
      "cell_type": "code",
      "metadata": {
        "id": "HHVB4wGCByoe",
        "outputId": "6e684664-d187-4e7f-d60c-c4b29907aea2",
        "colab": {
          "base_uri": "https://localhost:8080/",
          "height": 712
        }
      },
      "source": [
        "fig2 = grupo_bairro['Valor'].max().plot.bar(color = 'blue')\n",
        "fig2.set_ylabel('Valor do Aluguel')\n",
        "fig2.set_title('Valor Máximo do Aluguel por Bairro', {'fontsize': 22})"
      ],
      "execution_count": 47,
      "outputs": [
        {
          "output_type": "execute_result",
          "data": {
            "text/plain": [
              "Text(0.5, 1.0, 'Valor Máximo do Aluguel por Bairro')"
            ]
          },
          "metadata": {},
          "execution_count": 47
        },
        {
          "output_type": "display_data",
          "data": {
            "image/png": "[encoded data removed]",
            "text/plain": [
              "<Figure size 1440x720 with 1 Axes>"
            ]
          },
          "metadata": {
            "needs_background": "light"
          }
        }
      ]
    },
    {
      "cell_type": "code",
      "metadata": {
        "id": "t9VCuG47CcrD"
      },
      "source": [
        ""
      ],
      "execution_count": null,
      "outputs": []
    }
  ]
}