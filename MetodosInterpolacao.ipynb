{
  "nbformat": 4,
  "nbformat_minor": 0,
  "metadata": {
    "colab": {
      "name": "MetodosInterpolacao.ipynb",
      "provenance": [],
      "authorship_tag": "ABX9TyOCWxrTzjB7o2TFyHcMhCMH",
      "include_colab_link": true
    },
    "kernelspec": {
      "name": "python3",
      "display_name": "Python 3"
    },
    "language_info": {
      "name": "python"
    }
  },
  "cells": [
    {
      "cell_type": "markdown",
      "metadata": {
        "id": "view-in-github",
        "colab_type": "text"
      },
      "source": [
        "<a href=\"https://colab.research.google.com/github/brunonbn/intro-data-science/blob/main/MetodosInterpolacao.ipynb\" target=\"_parent\"><img src=\"https://colab.research.google.com/assets/colab-badge.svg\" alt=\"Open In Colab\"/></a>"
      ]
    },
    {
      "cell_type": "code",
      "metadata": {
        "id": "qBVnshQEiYb8"
      },
      "source": [
        "import pandas as pd"
      ],
      "execution_count": 1,
      "outputs": []
    },
    {
      "cell_type": "code",
      "metadata": {
        "colab": {
          "base_uri": "https://localhost:8080/"
        },
        "id": "FwerIQsrieVT",
        "outputId": "cb20ec94-8fd3-468b-9cee-e03766bdfc5d"
      },
      "source": [
        "data = [0.5, None, None, 0.52, 0.54, None, None, 0.59, 0.6, None, 0.7]\n",
        "s = pd.Series(data)\n",
        "s"
      ],
      "execution_count": 7,
      "outputs": [
        {
          "output_type": "execute_result",
          "data": {
            "text/plain": [
              "0     0.50\n",
              "1      NaN\n",
              "2      NaN\n",
              "3     0.52\n",
              "4     0.54\n",
              "5      NaN\n",
              "6      NaN\n",
              "7     0.59\n",
              "8     0.60\n",
              "9      NaN\n",
              "10    0.70\n",
              "dtype: float64"
            ]
          },
          "metadata": {},
          "execution_count": 7
        }
      ]
    },
    {
      "cell_type": "code",
      "metadata": {
        "colab": {
          "base_uri": "https://localhost:8080/"
        },
        "id": "l59icAepi2ck",
        "outputId": "ac7ca5d9-2bcd-496c-bdbe-4c249da6baec"
      },
      "source": [
        "# é possível preencher os Nulos com fillna e um valor específico\n",
        "s.fillna(0)"
      ],
      "execution_count": 8,
      "outputs": [
        {
          "output_type": "execute_result",
          "data": {
            "text/plain": [
              "0     0.50\n",
              "1     0.00\n",
              "2     0.00\n",
              "3     0.52\n",
              "4     0.54\n",
              "5     0.00\n",
              "6     0.00\n",
              "7     0.59\n",
              "8     0.60\n",
              "9     0.00\n",
              "10    0.70\n",
              "dtype: float64"
            ]
          },
          "metadata": {},
          "execution_count": 8
        }
      ]
    },
    {
      "cell_type": "code",
      "metadata": {
        "colab": {
          "base_uri": "https://localhost:8080/"
        },
        "id": "tvW6QdePjC-g",
        "outputId": "765a5a05-a61b-4978-eea3-6bb02fcf2612"
      },
      "source": [
        "# outra possibilidade é usar o valor válido exatamente anterior ao valor NULO - para isso usamos o método de interpolação ffill\n",
        "# importante: se não tiver valor anterior, isto é, se os primeiros registros forem NULOs, ele não preenche\n",
        "s.fillna(method = 'ffill')"
      ],
      "execution_count": 9,
      "outputs": [
        {
          "output_type": "execute_result",
          "data": {
            "text/plain": [
              "0     0.50\n",
              "1     0.50\n",
              "2     0.50\n",
              "3     0.52\n",
              "4     0.54\n",
              "5     0.54\n",
              "6     0.54\n",
              "7     0.59\n",
              "8     0.60\n",
              "9     0.60\n",
              "10    0.70\n",
              "dtype: float64"
            ]
          },
          "metadata": {},
          "execution_count": 9
        }
      ]
    },
    {
      "cell_type": "code",
      "metadata": {
        "colab": {
          "base_uri": "https://localhost:8080/"
        },
        "id": "odqAa688jbqw",
        "outputId": "29441cf4-21ea-41f3-cffa-563f7fb23f70"
      },
      "source": [
        "# outro método interessante é o bfill, que é igual ao ffill, mas ele começa do último valor e vai até o primeiro - o contrário do ffill\n",
        "s.fillna(method = 'bfill')"
      ],
      "execution_count": 10,
      "outputs": [
        {
          "output_type": "execute_result",
          "data": {
            "text/plain": [
              "0     0.50\n",
              "1     0.52\n",
              "2     0.52\n",
              "3     0.52\n",
              "4     0.54\n",
              "5     0.59\n",
              "6     0.59\n",
              "7     0.59\n",
              "8     0.60\n",
              "9     0.70\n",
              "10    0.70\n",
              "dtype: float64"
            ]
          },
          "metadata": {},
          "execution_count": 10
        }
      ]
    },
    {
      "cell_type": "code",
      "metadata": {
        "colab": {
          "base_uri": "https://localhost:8080/"
        },
        "id": "-YQg23jgkA1T",
        "outputId": "d589a78c-d693-4ef7-fea8-942c7b456976"
      },
      "source": [
        "# também é possível preencher com a média dos valores da série - bem similar ao preenchimento com valor fixo - 0\n",
        "s.fillna(s.mean())"
      ],
      "execution_count": 11,
      "outputs": [
        {
          "output_type": "execute_result",
          "data": {
            "text/plain": [
              "0     0.500\n",
              "1     0.575\n",
              "2     0.575\n",
              "3     0.520\n",
              "4     0.540\n",
              "5     0.575\n",
              "6     0.575\n",
              "7     0.590\n",
              "8     0.600\n",
              "9     0.575\n",
              "10    0.700\n",
              "dtype: float64"
            ]
          },
          "metadata": {},
          "execution_count": 11
        }
      ]
    },
    {
      "cell_type": "code",
      "metadata": {
        "colab": {
          "base_uri": "https://localhost:8080/"
        },
        "id": "xSd0mDWtkplf",
        "outputId": "7291c7c2-698f-4378-fc21-682a48099a51"
      },
      "source": [
        "# é possível passar um limite para valores nulos preenchidos no ffill e bfill - com limite 1, por exemplo, se tivermos 2 nulos em sequencia apenas o primeiro será preenchido\n",
        "s.fillna(method = \"ffill\", limit = 1)"
      ],
      "execution_count": 13,
      "outputs": [
        {
          "output_type": "execute_result",
          "data": {
            "text/plain": [
              "0     0.50\n",
              "1     0.50\n",
              "2      NaN\n",
              "3     0.52\n",
              "4     0.54\n",
              "5     0.54\n",
              "6      NaN\n",
              "7     0.59\n",
              "8     0.60\n",
              "9     0.60\n",
              "10    0.70\n",
              "dtype: float64"
            ]
          },
          "metadata": {},
          "execution_count": 13
        }
      ]
    },
    {
      "cell_type": "code",
      "metadata": {
        "id": "82IdU6l4lCNX"
      },
      "source": [
        ""
      ],
      "execution_count": null,
      "outputs": []
    }
  ]
}